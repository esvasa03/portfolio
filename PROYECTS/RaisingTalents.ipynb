{
  "cells": [
    {
      "cell_type": "code",
      "execution_count": null,
      "metadata": {
        "id": "iKKayLX4H7LQ"
      },
      "outputs": [],
      "source": [
        "import pandas as pd"
      ]
    },
    {
      "cell_type": "code",
      "execution_count": null,
      "metadata": {
        "id": "jM-5-JKnIGwX"
      },
      "outputs": [],
      "source": [
        "publication = pd.read_excel('/content/Publications17-21.xlsx', header = 0, na_values='-' )\n"
      ]
    },
    {
      "cell_type": "markdown",
      "source": [
        "Se separan los autores y las materias y se ponen en lineas por separado"
      ],
      "metadata": {
        "id": "-ZUlSna82IvY"
      }
    },
    {
      "cell_type": "code",
      "execution_count": null,
      "metadata": {
        "id": "trtZTYBAI0Nj"
      },
      "outputs": [],
      "source": [
        "publication['Scopus Author Ids'] = publication['Scopus Author Ids'].str.split('|')\n",
        "publication['Quacquarelli Symonds (QS) Subject field name'] = publication['Quacquarelli Symonds (QS) Subject field name'].str.split('|')"
      ]
    },
    {
      "cell_type": "code",
      "execution_count": null,
      "metadata": {
        "id": "DbOlabLzI2Zc"
      },
      "outputs": [],
      "source": [
        "pub = publication.explode('Scopus Author Ids', ignore_index=True)"
      ]
    },
    {
      "cell_type": "code",
      "execution_count": null,
      "metadata": {
        "id": "KErtCzGvI395"
      },
      "outputs": [],
      "source": [
        "pub = pub.explode('Quacquarelli Symonds (QS) Subject field name', ignore_index=True)"
      ]
    },
    {
      "cell_type": "code",
      "source": [
        "pub.shape"
      ],
      "metadata": {
        "colab": {
          "base_uri": "https://localhost:8080/"
        },
        "id": "SAvRrbuzWcou",
        "outputId": "4c6b478b-cf52-43ae-f747-852bf0754aad"
      },
      "execution_count": null,
      "outputs": [
        {
          "output_type": "execute_result",
          "data": {
            "text/plain": [
              "(2029066, 50)"
            ]
          },
          "metadata": {},
          "execution_count": 74
        }
      ]
    },
    {
      "cell_type": "markdown",
      "source": [
        "Se va a trabajar solo con los de Physics & Astronomy"
      ],
      "metadata": {
        "id": "5O8POGMR2Vio"
      }
    },
    {
      "cell_type": "code",
      "execution_count": null,
      "metadata": {
        "id": "6KwVKSwmI-ss"
      },
      "outputs": [],
      "source": [
        "grouped = pub.groupby(['Quacquarelli Symonds (QS) Subject field name'])\n",
        "Physics_Astronomy = pd.DataFrame(grouped.get_group('Physics & Astronomy'))\n",
        "Physics_Astronomy2 = pd.DataFrame(grouped.get_group(' Physics & Astronomy'))"
      ]
    },
    {
      "cell_type": "code",
      "execution_count": null,
      "metadata": {
        "id": "KoKXOARiJAUZ"
      },
      "outputs": [],
      "source": [
        "Physics_Astronomy.append(Physics_Astronomy2)\n",
        "Physics_Astronomy.reset_index(drop=True, inplace=True)"
      ]
    },
    {
      "cell_type": "markdown",
      "source": [
        "Quitamos las columnas que no nos aportan información valiosa a nuestro análisis"
      ],
      "metadata": {
        "id": "aMRWmmwr2c7c"
      }
    },
    {
      "cell_type": "code",
      "execution_count": null,
      "metadata": {
        "id": "Rv_8M6tPJBeH"
      },
      "outputs": [],
      "source": [
        "Physics_Astronomy.drop(['PubMed ID','Open Access','Volume', 'Issue', 'Pages', 'Sustainable Development Goals (2022)', 'Scopus Author ID Single Author', 'Scopus Author ID Corresponding Author'], inplace = True, axis = 1)"
      ]
    },
    {
      "cell_type": "code",
      "execution_count": null,
      "metadata": {
        "id": "8Qf1z6cTJF78"
      },
      "outputs": [],
      "source": [
        "Physics_Astronomy.drop(['Number of Authors','Full date','Source ID','Scopus Source title','Article number','Number of Institutions','Scopus Author ID Last Author','All Science Journal Classification (ASJC) code','Quacquarelli Symonds (QS) Subject area code','Quacquarelli Symonds (QS) Subject code','Time Higher Education (THE) code','Topic Cluster number','Topic number'], inplace = True, axis = 1)"
      ]
    },
    {
      "cell_type": "code",
      "source": [
        "Physics_Astronomy.shape"
      ],
      "metadata": {
        "colab": {
          "base_uri": "https://localhost:8080/"
        },
        "id": "1w8vdKTtoopl",
        "outputId": "2456f52a-361e-455c-9ae0-96dcbabf6d65"
      },
      "execution_count": null,
      "outputs": [
        {
          "output_type": "execute_result",
          "data": {
            "text/plain": [
              "(752597, 29)"
            ]
          },
          "metadata": {},
          "execution_count": 79
        }
      ]
    },
    {
      "cell_type": "code",
      "source": [
        "Physics_Astronomy.drop(['Publication type','All Science Journal Classification (ASJC) field name','Quacquarelli Symonds (QS) Subject area field name','Quacquarelli Symonds (QS) Subject field name','Time Higher Education (THE) field name','Topic Cluster name','Topic name','Patent citations'], inplace = True, axis = 1)"
      ],
      "metadata": {
        "id": "PR-2p7ALGppu"
      },
      "execution_count": null,
      "outputs": []
    },
    {
      "cell_type": "markdown",
      "source": [
        "Hacemos un mapa de correlación de datos para cononcer mejor los datos"
      ],
      "metadata": {
        "id": "tL9u66Sp3AVO"
      }
    },
    {
      "cell_type": "markdown",
      "source": [
        "Nos quedaremos solo con los Journals, aún así queda una gran cantidad de datos (742014)"
      ],
      "metadata": {
        "id": "sKgWvxgu3LNc"
      }
    },
    {
      "cell_type": "code",
      "source": [
        "Physics_Astronomy_Journal = Physics_Astronomy.loc[Physics_Astronomy.loc[:, 'Source type'] == 'Journal']"
      ],
      "metadata": {
        "id": "iHteQu_vUlfb"
      },
      "execution_count": null,
      "outputs": []
    },
    {
      "cell_type": "code",
      "source": [
        "Physics_Astronomy_Journal.shape"
      ],
      "metadata": {
        "colab": {
          "base_uri": "https://localhost:8080/"
        },
        "id": "U9XH2fHWVeFL",
        "outputId": "1bcee49b-3079-402b-a61b-b65ffc7d77a1"
      },
      "execution_count": null,
      "outputs": [
        {
          "output_type": "execute_result",
          "data": {
            "text/plain": [
              "(742014, 21)"
            ]
          },
          "metadata": {},
          "execution_count": 84
        }
      ]
    },
    {
      "cell_type": "code",
      "source": [
        "Physics_Astronomy_Journal.isna().sum()"
      ],
      "metadata": {
        "colab": {
          "base_uri": "https://localhost:8080/"
        },
        "id": "2ee7CJ7ZXczA",
        "outputId": "b416b706-f497-4e33-e3e9-9035da260e4f"
      },
      "execution_count": null,
      "outputs": [
        {
          "output_type": "execute_result",
          "data": {
            "text/plain": [
              "Scopus Author Ids                                                       192\n",
              "Year                                                                      0\n",
              "ISSN                                                                      0\n",
              "Source type                                                               0\n",
              "SNIP (publication year)                                                 256\n",
              "SNIP percentile (publication year) *                                    256\n",
              "CiteScore (publication year)                                            389\n",
              "CiteScore percentile (publication year) *                               389\n",
              "SJR (publication year)                                                  714\n",
              "SJR percentile (publication year) *                                     714\n",
              "Field-Weighted View Impact                                                0\n",
              "Views                                                                     0\n",
              "Citations                                                                 0\n",
              "Field-Weighted Citation Impact                                            0\n",
              "Field-Citation Average                                                    0\n",
              "Outputs in Top Citation Percentiles, per percentile                       0\n",
              "Field-Weighted Outputs in Top Citation Percentiles, per percentile        0\n",
              "Scopus Author ID First Author                                           192\n",
              "Country/Region                                                            0\n",
              "Topic Cluster Prominence Percentile                                   21535\n",
              "Topic Prominence Percentile                                           21535\n",
              "dtype: int64"
            ]
          },
          "metadata": {},
          "execution_count": 86
        }
      ]
    },
    {
      "cell_type": "markdown",
      "source": [
        "Borramos las filas que no tengan información en el Scopus Author Ids, ya que estas no se pueden reemplazar con ningun otro valor"
      ],
      "metadata": {
        "id": "b_85rEX23VvC"
      }
    },
    {
      "cell_type": "code",
      "source": [
        "Physics_Astronomy_Journal = Physics_Astronomy_Journal[Physics_Astronomy_Journal['Scopus Author Ids'].notna()]"
      ],
      "metadata": {
        "id": "hxy1nInk6l_M"
      },
      "execution_count": null,
      "outputs": []
    },
    {
      "cell_type": "markdown",
      "source": [
        "Los demás serán reemplazados con la media de cada una de las columnas"
      ],
      "metadata": {
        "id": "9qgrqvMG3haU"
      }
    },
    {
      "cell_type": "code",
      "source": [
        "Physics_Astronomy_Journal['SNIP (publication year)'] = Physics_Astronomy_Journal['SNIP (publication year)'].fillna(Physics_Astronomy_Journal['SNIP (publication year)'].mean())\n",
        "Physics_Astronomy_Journal['SNIP percentile (publication year) *'] = Physics_Astronomy_Journal['SNIP percentile (publication year) *'].fillna(Physics_Astronomy_Journal['SNIP percentile (publication year) *'].mean())\n",
        "Physics_Astronomy_Journal['CiteScore (publication year)'] = Physics_Astronomy_Journal['CiteScore (publication year)'].fillna(Physics_Astronomy_Journal['CiteScore (publication year)'].mean())\n",
        "Physics_Astronomy_Journal['CiteScore percentile (publication year) *'] = Physics_Astronomy_Journal['CiteScore percentile (publication year) *'].fillna(Physics_Astronomy_Journal['CiteScore percentile (publication year) *'].mean())\n",
        "Physics_Astronomy_Journal['SJR (publication year)'] = Physics_Astronomy_Journal['SJR (publication year)'].fillna(Physics_Astronomy_Journal['SJR (publication year)'].mean())\n",
        "Physics_Astronomy_Journal['SJR percentile (publication year) *'] = Physics_Astronomy_Journal['SJR percentile (publication year) *'].fillna(Physics_Astronomy_Journal['SJR percentile (publication year) *'].mean())\n",
        "Physics_Astronomy_Journal['Topic Cluster Prominence Percentile'] = Physics_Astronomy_Journal['Topic Cluster Prominence Percentile'].fillna(Physics_Astronomy_Journal['Topic Cluster Prominence Percentile'].mean())\n",
        "Physics_Astronomy_Journal['Topic Prominence Percentile'] = Physics_Astronomy_Journal['Topic Prominence Percentile'].fillna(Physics_Astronomy_Journal['Topic Prominence Percentile'].mean())"
      ],
      "metadata": {
        "id": "kuLX5nyVCWgM"
      },
      "execution_count": null,
      "outputs": []
    },
    {
      "cell_type": "code",
      "source": [
        "Physics_Astronomy_Journal.isna().sum()"
      ],
      "metadata": {
        "colab": {
          "base_uri": "https://localhost:8080/"
        },
        "id": "2Rswq6EOCf8Q",
        "outputId": "7a6285b5-18f9-43dd-d1d9-3c63dd486bc1"
      },
      "execution_count": null,
      "outputs": [
        {
          "output_type": "execute_result",
          "data": {
            "text/plain": [
              "Scopus Author Ids                                                     0\n",
              "Year                                                                  0\n",
              "ISSN                                                                  0\n",
              "Source type                                                           0\n",
              "SNIP (publication year)                                               0\n",
              "SNIP percentile (publication year) *                                  0\n",
              "CiteScore (publication year)                                          0\n",
              "CiteScore percentile (publication year) *                             0\n",
              "SJR (publication year)                                                0\n",
              "SJR percentile (publication year) *                                   0\n",
              "Field-Weighted View Impact                                            0\n",
              "Views                                                                 0\n",
              "Citations                                                             0\n",
              "Field-Weighted Citation Impact                                        0\n",
              "Field-Citation Average                                                0\n",
              "Outputs in Top Citation Percentiles, per percentile                   0\n",
              "Field-Weighted Outputs in Top Citation Percentiles, per percentile    0\n",
              "Scopus Author ID First Author                                         0\n",
              "Country/Region                                                        0\n",
              "Topic Cluster Prominence Percentile                                   0\n",
              "Topic Prominence Percentile                                           0\n",
              "dtype: int64"
            ]
          },
          "metadata": {},
          "execution_count": 92
        }
      ]
    },
    {
      "cell_type": "code",
      "source": [
        "corr = Physics_Astronomy.corr()\n",
        "corr.style.background_gradient (cmap = 'coolwarm')"
      ],
      "metadata": {
        "id": "umwHq9LwHn_3"
      },
      "execution_count": null,
      "outputs": []
    },
    {
      "cell_type": "markdown",
      "source": [
        "#Modelo"
      ],
      "metadata": {
        "id": "clWAmENsVZLu"
      }
    },
    {
      "cell_type": "markdown",
      "source": [
        "definición de SNIP: https://journalinsights.elsevier.com/journals/0969-806X/snip"
      ],
      "metadata": {
        "id": "ol6qRLnijmLZ"
      }
    },
    {
      "cell_type": "markdown",
      "source": [
        "Consideramos que el SNIP es una de las métricas con un mayor valor en cuanto publicaciones, además es una métrica que modifica su valor dependiendo a la materia de la publicación. Además, vimos en el mapa de correlación que muchas métricas tienen una relación buena con el SNIP. Por estos factores la elegimos como la y a predecir."
      ],
      "metadata": {
        "id": "bThmi7U83rgt"
      }
    },
    {
      "cell_type": "code",
      "source": [
        "X = Physics_Astronomy_Journal[['SNIP percentile (publication year) *','CiteScore (publication year)','CiteScore percentile (publication year) *','SJR (publication year)','SJR percentile (publication year) *','Field-Weighted View Impact','Views','Citations','Field-Weighted Citation Impact','Field-Citation Average','Outputs in Top Citation Percentiles, per percentile','Field-Weighted Outputs in Top Citation Percentiles, per percentile','Topic Cluster Prominence Percentile','Topic Prominence Percentile']].values\n",
        "y = Physics_Astronomy_Journal['SNIP (publication year)'].values"
      ],
      "metadata": {
        "id": "sOwFwBFPc4lZ"
      },
      "execution_count": null,
      "outputs": []
    },
    {
      "cell_type": "markdown",
      "source": [
        "Como tenemos muchos datos, se elige un modelo de 80% para el train y 20% para el test"
      ],
      "metadata": {
        "id": "CiJtGl3L4Gx6"
      }
    },
    {
      "cell_type": "code",
      "source": [
        "from sklearn.model_selection import train_test_split\n",
        "X_train,X_test,y_train,y_test = train_test_split(X,Y,test_size=.30,random_state=0)"
      ],
      "metadata": {
        "id": "thOBoh5ZhW4G"
      },
      "execution_count": null,
      "outputs": []
    },
    {
      "cell_type": "markdown",
      "source": [
        "Primero se hace el modelo de regresión lineal"
      ],
      "metadata": {
        "id": "xFTJpxjN4NxE"
      }
    },
    {
      "cell_type": "code",
      "source": [
        "from sklearn.linear_model import LinearRegression\n",
        "modelo = LinearRegression()\n",
        "modelo.fit(X_train, y_train)"
      ],
      "metadata": {
        "id": "QONlyALkhd2I",
        "colab": {
          "base_uri": "https://localhost:8080/",
          "height": 74
        },
        "outputId": "d61cec74-eac3-4742-fcab-e917e0aa1d27"
      },
      "execution_count": null,
      "outputs": [
        {
          "output_type": "execute_result",
          "data": {
            "text/plain": [
              "LinearRegression()"
            ],
            "text/html": [
              "<style>#sk-container-id-2 {color: black;background-color: white;}#sk-container-id-2 pre{padding: 0;}#sk-container-id-2 div.sk-toggleable {background-color: white;}#sk-container-id-2 label.sk-toggleable__label {cursor: pointer;display: block;width: 100%;margin-bottom: 0;padding: 0.3em;box-sizing: border-box;text-align: center;}#sk-container-id-2 label.sk-toggleable__label-arrow:before {content: \"▸\";float: left;margin-right: 0.25em;color: #696969;}#sk-container-id-2 label.sk-toggleable__label-arrow:hover:before {color: black;}#sk-container-id-2 div.sk-estimator:hover label.sk-toggleable__label-arrow:before {color: black;}#sk-container-id-2 div.sk-toggleable__content {max-height: 0;max-width: 0;overflow: hidden;text-align: left;background-color: #f0f8ff;}#sk-container-id-2 div.sk-toggleable__content pre {margin: 0.2em;color: black;border-radius: 0.25em;background-color: #f0f8ff;}#sk-container-id-2 input.sk-toggleable__control:checked~div.sk-toggleable__content {max-height: 200px;max-width: 100%;overflow: auto;}#sk-container-id-2 input.sk-toggleable__control:checked~label.sk-toggleable__label-arrow:before {content: \"▾\";}#sk-container-id-2 div.sk-estimator input.sk-toggleable__control:checked~label.sk-toggleable__label {background-color: #d4ebff;}#sk-container-id-2 div.sk-label input.sk-toggleable__control:checked~label.sk-toggleable__label {background-color: #d4ebff;}#sk-container-id-2 input.sk-hidden--visually {border: 0;clip: rect(1px 1px 1px 1px);clip: rect(1px, 1px, 1px, 1px);height: 1px;margin: -1px;overflow: hidden;padding: 0;position: absolute;width: 1px;}#sk-container-id-2 div.sk-estimator {font-family: monospace;background-color: #f0f8ff;border: 1px dotted black;border-radius: 0.25em;box-sizing: border-box;margin-bottom: 0.5em;}#sk-container-id-2 div.sk-estimator:hover {background-color: #d4ebff;}#sk-container-id-2 div.sk-parallel-item::after {content: \"\";width: 100%;border-bottom: 1px solid gray;flex-grow: 1;}#sk-container-id-2 div.sk-label:hover label.sk-toggleable__label {background-color: #d4ebff;}#sk-container-id-2 div.sk-serial::before {content: \"\";position: absolute;border-left: 1px solid gray;box-sizing: border-box;top: 0;bottom: 0;left: 50%;z-index: 0;}#sk-container-id-2 div.sk-serial {display: flex;flex-direction: column;align-items: center;background-color: white;padding-right: 0.2em;padding-left: 0.2em;position: relative;}#sk-container-id-2 div.sk-item {position: relative;z-index: 1;}#sk-container-id-2 div.sk-parallel {display: flex;align-items: stretch;justify-content: center;background-color: white;position: relative;}#sk-container-id-2 div.sk-item::before, #sk-container-id-2 div.sk-parallel-item::before {content: \"\";position: absolute;border-left: 1px solid gray;box-sizing: border-box;top: 0;bottom: 0;left: 50%;z-index: -1;}#sk-container-id-2 div.sk-parallel-item {display: flex;flex-direction: column;z-index: 1;position: relative;background-color: white;}#sk-container-id-2 div.sk-parallel-item:first-child::after {align-self: flex-end;width: 50%;}#sk-container-id-2 div.sk-parallel-item:last-child::after {align-self: flex-start;width: 50%;}#sk-container-id-2 div.sk-parallel-item:only-child::after {width: 0;}#sk-container-id-2 div.sk-dashed-wrapped {border: 1px dashed gray;margin: 0 0.4em 0.5em 0.4em;box-sizing: border-box;padding-bottom: 0.4em;background-color: white;}#sk-container-id-2 div.sk-label label {font-family: monospace;font-weight: bold;display: inline-block;line-height: 1.2em;}#sk-container-id-2 div.sk-label-container {text-align: center;}#sk-container-id-2 div.sk-container {/* jupyter's `normalize.less` sets `[hidden] { display: none; }` but bootstrap.min.css set `[hidden] { display: none !important; }` so we also need the `!important` here to be able to override the default hidden behavior on the sphinx rendered scikit-learn.org. See: https://github.com/scikit-learn/scikit-learn/issues/21755 */display: inline-block !important;position: relative;}#sk-container-id-2 div.sk-text-repr-fallback {display: none;}</style><div id=\"sk-container-id-2\" class=\"sk-top-container\"><div class=\"sk-text-repr-fallback\"><pre>LinearRegression()</pre><b>In a Jupyter environment, please rerun this cell to show the HTML representation or trust the notebook. <br />On GitHub, the HTML representation is unable to render, please try loading this page with nbviewer.org.</b></div><div class=\"sk-container\" hidden><div class=\"sk-item\"><div class=\"sk-estimator sk-toggleable\"><input class=\"sk-toggleable__control sk-hidden--visually\" id=\"sk-estimator-id-2\" type=\"checkbox\" checked><label for=\"sk-estimator-id-2\" class=\"sk-toggleable__label sk-toggleable__label-arrow\">LinearRegression</label><div class=\"sk-toggleable__content\"><pre>LinearRegression()</pre></div></div></div></div></div>"
            ]
          },
          "metadata": {},
          "execution_count": 97
        }
      ]
    },
    {
      "cell_type": "markdown",
      "source": [
        "El puntaje que sale es bueno, sin embargo probaremos con otro método para encontrar el mejor"
      ],
      "metadata": {
        "id": "s44d82sT4XRf"
      }
    },
    {
      "cell_type": "code",
      "source": [
        "predictions = modelo.predict(X_test)\n",
        "\n",
        "print('Puntaje entrenamiento: {}\\n'.format(modelo.score(X_train,y_train)))\n",
        "print('Puntaje Test: {}\\n'.format(modelo.score(X_test,y_test)))"
      ],
      "metadata": {
        "colab": {
          "base_uri": "https://localhost:8080/"
        },
        "id": "ohvbwW87IvZX",
        "outputId": "8d14ed4c-5406-41ae-91a7-941087a1d88b"
      },
      "execution_count": null,
      "outputs": [
        {
          "output_type": "stream",
          "name": "stdout",
          "text": [
            "Puntaje entrenamiento: 0.9068013588553334\n",
            "\n",
            "Puntaje Test: 0.9043344193161464\n",
            "\n"
          ]
        }
      ]
    },
    {
      "cell_type": "markdown",
      "source": [
        "Al final, el mejor modelo resultó ser el kNN, que tiene un fantástico puntaje tanto de entrenamiento como de test"
      ],
      "metadata": {
        "id": "6fuWQxPh4gTn"
      }
    },
    {
      "cell_type": "code",
      "source": [
        "from sklearn.neighbors import KNeighborsRegressor\n",
        "modelKNN = KNeighborsRegressor(5,metric='euclidean')\n",
        "modelKNN.fit(X_train,y_train)\n",
        "predictionsKNN = modelKNN.predict(X_test)\n",
        "y_pred = modelKNN.predict(X_test)\n",
        "\n",
        "print('Puntaje entrenamiento: {}\\n'.format(modelKNN.score(X_train,y_train)))\n",
        "print('Puntaje Test: {}\\n'.format(modelKNN.score(X_test,y_test)))"
      ],
      "metadata": {
        "colab": {
          "base_uri": "https://localhost:8080/"
        },
        "id": "ckfP_842Nz-V",
        "outputId": "130e0d43-fe54-473f-d4f3-b3fa3cbd77e9"
      },
      "execution_count": null,
      "outputs": [
        {
          "output_type": "stream",
          "name": "stdout",
          "text": [
            "Puntaje entrenamiento: 0.9993100751803708\n",
            "\n",
            "Puntaje Test: 0.997683365846829\n",
            "\n"
          ]
        }
      ]
    },
    {
      "cell_type": "markdown",
      "source": [
        "Para hacer una validación, se hace una tabla con los valores del SNIP, lo que se predijo y la diferencia, además se imprime abajo la descripción de las diferencias donde se puede notar que es una muy buena predicción."
      ],
      "metadata": {
        "id": "kwFsbx_C4phk"
      }
    },
    {
      "cell_type": "code",
      "source": [
        "validacion = pd.DataFrame({'Actual': y_test, 'Predicción': predictions, 'Diferencia': y_test-predictions})\n",
        "muestra_validacion = validacion.head()\n",
        "muestra_validacion"
      ],
      "metadata": {
        "colab": {
          "base_uri": "https://localhost:8080/",
          "height": 206
        },
        "id": "wC67JYJMLfBa",
        "outputId": "6826f76a-877f-426a-fd5b-5052ca5308bb"
      },
      "execution_count": null,
      "outputs": [
        {
          "output_type": "execute_result",
          "data": {
            "text/plain": [
              "   Actual  Predicción  Diferencia\n",
              "0    1.47    1.455938    0.014062\n",
              "1    0.78    0.803988   -0.023988\n",
              "2    1.28    1.425704   -0.145704\n",
              "3    1.23    1.236121   -0.006121\n",
              "4    1.24    1.266619   -0.026619"
            ],
            "text/html": [
              "\n",
              "  <div id=\"df-be6a6c52-a291-41f3-a93d-c0a8aa6101fc\">\n",
              "    <div class=\"colab-df-container\">\n",
              "      <div>\n",
              "<style scoped>\n",
              "    .dataframe tbody tr th:only-of-type {\n",
              "        vertical-align: middle;\n",
              "    }\n",
              "\n",
              "    .dataframe tbody tr th {\n",
              "        vertical-align: top;\n",
              "    }\n",
              "\n",
              "    .dataframe thead th {\n",
              "        text-align: right;\n",
              "    }\n",
              "</style>\n",
              "<table border=\"1\" class=\"dataframe\">\n",
              "  <thead>\n",
              "    <tr style=\"text-align: right;\">\n",
              "      <th></th>\n",
              "      <th>Actual</th>\n",
              "      <th>Predicción</th>\n",
              "      <th>Diferencia</th>\n",
              "    </tr>\n",
              "  </thead>\n",
              "  <tbody>\n",
              "    <tr>\n",
              "      <th>0</th>\n",
              "      <td>1.47</td>\n",
              "      <td>1.455938</td>\n",
              "      <td>0.014062</td>\n",
              "    </tr>\n",
              "    <tr>\n",
              "      <th>1</th>\n",
              "      <td>0.78</td>\n",
              "      <td>0.803988</td>\n",
              "      <td>-0.023988</td>\n",
              "    </tr>\n",
              "    <tr>\n",
              "      <th>2</th>\n",
              "      <td>1.28</td>\n",
              "      <td>1.425704</td>\n",
              "      <td>-0.145704</td>\n",
              "    </tr>\n",
              "    <tr>\n",
              "      <th>3</th>\n",
              "      <td>1.23</td>\n",
              "      <td>1.236121</td>\n",
              "      <td>-0.006121</td>\n",
              "    </tr>\n",
              "    <tr>\n",
              "      <th>4</th>\n",
              "      <td>1.24</td>\n",
              "      <td>1.266619</td>\n",
              "      <td>-0.026619</td>\n",
              "    </tr>\n",
              "  </tbody>\n",
              "</table>\n",
              "</div>\n",
              "      <button class=\"colab-df-convert\" onclick=\"convertToInteractive('df-be6a6c52-a291-41f3-a93d-c0a8aa6101fc')\"\n",
              "              title=\"Convert this dataframe to an interactive table.\"\n",
              "              style=\"display:none;\">\n",
              "        \n",
              "  <svg xmlns=\"http://www.w3.org/2000/svg\" height=\"24px\"viewBox=\"0 0 24 24\"\n",
              "       width=\"24px\">\n",
              "    <path d=\"M0 0h24v24H0V0z\" fill=\"none\"/>\n",
              "    <path d=\"M18.56 5.44l.94 2.06.94-2.06 2.06-.94-2.06-.94-.94-2.06-.94 2.06-2.06.94zm-11 1L8.5 8.5l.94-2.06 2.06-.94-2.06-.94L8.5 2.5l-.94 2.06-2.06.94zm10 10l.94 2.06.94-2.06 2.06-.94-2.06-.94-.94-2.06-.94 2.06-2.06.94z\"/><path d=\"M17.41 7.96l-1.37-1.37c-.4-.4-.92-.59-1.43-.59-.52 0-1.04.2-1.43.59L10.3 9.45l-7.72 7.72c-.78.78-.78 2.05 0 2.83L4 21.41c.39.39.9.59 1.41.59.51 0 1.02-.2 1.41-.59l7.78-7.78 2.81-2.81c.8-.78.8-2.07 0-2.86zM5.41 20L4 18.59l7.72-7.72 1.47 1.35L5.41 20z\"/>\n",
              "  </svg>\n",
              "      </button>\n",
              "      \n",
              "  <style>\n",
              "    .colab-df-container {\n",
              "      display:flex;\n",
              "      flex-wrap:wrap;\n",
              "      gap: 12px;\n",
              "    }\n",
              "\n",
              "    .colab-df-convert {\n",
              "      background-color: #E8F0FE;\n",
              "      border: none;\n",
              "      border-radius: 50%;\n",
              "      cursor: pointer;\n",
              "      display: none;\n",
              "      fill: #1967D2;\n",
              "      height: 32px;\n",
              "      padding: 0 0 0 0;\n",
              "      width: 32px;\n",
              "    }\n",
              "\n",
              "    .colab-df-convert:hover {\n",
              "      background-color: #E2EBFA;\n",
              "      box-shadow: 0px 1px 2px rgba(60, 64, 67, 0.3), 0px 1px 3px 1px rgba(60, 64, 67, 0.15);\n",
              "      fill: #174EA6;\n",
              "    }\n",
              "\n",
              "    [theme=dark] .colab-df-convert {\n",
              "      background-color: #3B4455;\n",
              "      fill: #D2E3FC;\n",
              "    }\n",
              "\n",
              "    [theme=dark] .colab-df-convert:hover {\n",
              "      background-color: #434B5C;\n",
              "      box-shadow: 0px 1px 3px 1px rgba(0, 0, 0, 0.15);\n",
              "      filter: drop-shadow(0px 1px 2px rgba(0, 0, 0, 0.3));\n",
              "      fill: #FFFFFF;\n",
              "    }\n",
              "  </style>\n",
              "\n",
              "      <script>\n",
              "        const buttonEl =\n",
              "          document.querySelector('#df-be6a6c52-a291-41f3-a93d-c0a8aa6101fc button.colab-df-convert');\n",
              "        buttonEl.style.display =\n",
              "          google.colab.kernel.accessAllowed ? 'block' : 'none';\n",
              "\n",
              "        async function convertToInteractive(key) {\n",
              "          const element = document.querySelector('#df-be6a6c52-a291-41f3-a93d-c0a8aa6101fc');\n",
              "          const dataTable =\n",
              "            await google.colab.kernel.invokeFunction('convertToInteractive',\n",
              "                                                     [key], {});\n",
              "          if (!dataTable) return;\n",
              "\n",
              "          const docLinkHtml = 'Like what you see? Visit the ' +\n",
              "            '<a target=\"_blank\" href=https://colab.research.google.com/notebooks/data_table.ipynb>data table notebook</a>'\n",
              "            + ' to learn more about interactive tables.';\n",
              "          element.innerHTML = '';\n",
              "          dataTable['output_type'] = 'display_data';\n",
              "          await google.colab.output.renderOutput(dataTable, element);\n",
              "          const docLink = document.createElement('div');\n",
              "          docLink.innerHTML = docLinkHtml;\n",
              "          element.appendChild(docLink);\n",
              "        }\n",
              "      </script>\n",
              "    </div>\n",
              "  </div>\n",
              "  "
            ]
          },
          "metadata": {},
          "execution_count": 100
        }
      ]
    },
    {
      "cell_type": "code",
      "source": [
        "validacion[\"Diferencia\"].describe()"
      ],
      "metadata": {
        "colab": {
          "base_uri": "https://localhost:8080/"
        },
        "id": "T5p1zQX4Ls8Z",
        "outputId": "5a834e10-ed5c-4874-8fbc-4335e673ae55"
      },
      "execution_count": null,
      "outputs": [
        {
          "output_type": "execute_result",
          "data": {
            "text/plain": [
              "count    148365.000000\n",
              "mean         -0.000432\n",
              "std           0.163271\n",
              "min          -1.332808\n",
              "25%          -0.063832\n",
              "50%          -0.004329\n",
              "75%           0.050968\n",
              "max           5.167882\n",
              "Name: Diferencia, dtype: float64"
            ]
          },
          "metadata": {},
          "execution_count": 101
        }
      ]
    }
  ],
  "metadata": {
    "colab": {
      "provenance": []
    },
    "kernelspec": {
      "display_name": "Python 3",
      "name": "python3"
    },
    "language_info": {
      "name": "python"
    }
  },
  "nbformat": 4,
  "nbformat_minor": 0
}